{
  "nbformat": 4,
  "nbformat_minor": 0,
  "metadata": {
    "colab": {
      "provenance": []
    },
    "kernelspec": {
      "name": "python3",
      "display_name": "Python 3"
    },
    "language_info": {
      "name": "python"
    }
  },
  "cells": [
    {
      "cell_type": "markdown",
      "source": [
        "**Data Types and Structures Questions**"
      ],
      "metadata": {
        "id": "nw8qruN19WcQ"
      }
    },
    {
      "cell_type": "markdown",
      "source": [
        "Q1 What are data structures, and why are they important3?\n",
        "\n",
        "   Data structures are ways of organizing and storing data in a computer so that it can be accessed and modified efficiently. Think of them as blueprints for how data is arranged in memory. Different data structures are suited for different purposes, depending on the type of data and the operations you need to perform on it.\n",
        "\n",
        "Data Structures Important\n",
        "\n",
        "Data structures are crucial in computer science and programming for several reasons:\n",
        "\n",
        "Efficiency: Choosing the right data structure can significantly impact the performance of your programs. Efficient data structures allow for faster data retrieval, insertion, and deletion operations.\n",
        "Organization: They provide a structured way to manage and organize large amounts of data, making it easier to work with.\n",
        "Problem Solving: Understanding data structures is fundamental to solving many complex programming problems. Many algorithms are designed to work with specific data structures.\n",
        "Resource Management: Using appropriate data structures can help optimize memory usage and other system resources.\n",
        "Code Reusability: Well-designed data structures can be reused across different programs and applications."
      ],
      "metadata": {
        "id": "ggsdrFq5wxUg"
      }
    },
    {
      "cell_type": "markdown",
      "source": [
        "Q2  Explain the difference between mutable and immutable data types with examples?\n",
        "\n",
        "   In Python, data types are classified as either mutable or immutable based on whether their state can be changed after they are created.\n",
        "\n",
        "Mutable data types can be modified after creation. When you modify a mutable object, you are changing the original object itself. Examples of mutable data types in Python include lists, dictionaries, and sets."
      ],
      "metadata": {
        "id": "s_6HlILkxdl6"
      }
    },
    {
      "cell_type": "code",
      "source": [
        "# Example of a mutable type: list\n",
        "my_list = [1, 2, 3]\n",
        "my_list.append(4) # Modifying the list\n",
        "print(my_list)    # Output: [1, 2, 3, 4]"
      ],
      "metadata": {
        "colab": {
          "base_uri": "https://localhost:8080/"
        },
        "id": "3cmlIGmex_qi",
        "outputId": "239745a9-835b-4a56-8fc1-9b3a4528881b"
      },
      "execution_count": 7,
      "outputs": [
        {
          "output_type": "stream",
          "name": "stdout",
          "text": [
            "[1, 2, 3, 4]\n"
          ]
        }
      ]
    },
    {
      "cell_type": "markdown",
      "source": [
        "  Immutable data types cannot be modified after creation. Any operation that seems to modify an immutable object actually creates a new object. Examples of immutable data types include integers, floats, strings, and tuples.\n"
      ],
      "metadata": {
        "id": "gFGslhllyAnS"
      }
    },
    {
      "cell_type": "code",
      "source": [
        "# Example of an immutable type: string\n",
        "my_string = \"hello\"\n",
        "my_string[0] = \"H\" # This would cause an error"
      ],
      "metadata": {
        "colab": {
          "base_uri": "https://localhost:8080/",
          "height": 176
        },
        "id": "oClSv-EXyMKm",
        "outputId": "e667f8fe-e2d9-45ef-8c23-a6468a96ba61"
      },
      "execution_count": 10,
      "outputs": [
        {
          "output_type": "error",
          "ename": "TypeError",
          "evalue": "'str' object does not support item assignment",
          "traceback": [
            "\u001b[0;31m---------------------------------------------------------------------------\u001b[0m",
            "\u001b[0;31mTypeError\u001b[0m                                 Traceback (most recent call last)",
            "\u001b[0;32m/tmp/ipython-input-3039344359.py\u001b[0m in \u001b[0;36m<cell line: 0>\u001b[0;34m()\u001b[0m\n\u001b[1;32m      1\u001b[0m \u001b[0;31m# Example of an immutable type: string\u001b[0m\u001b[0;34m\u001b[0m\u001b[0;34m\u001b[0m\u001b[0m\n\u001b[1;32m      2\u001b[0m \u001b[0mmy_string\u001b[0m \u001b[0;34m=\u001b[0m \u001b[0;34m\"hello\"\u001b[0m\u001b[0;34m\u001b[0m\u001b[0;34m\u001b[0m\u001b[0m\n\u001b[0;32m----> 3\u001b[0;31m \u001b[0mmy_string\u001b[0m\u001b[0;34m[\u001b[0m\u001b[0;36m0\u001b[0m\u001b[0;34m]\u001b[0m \u001b[0;34m=\u001b[0m \u001b[0;34m\"H\"\u001b[0m \u001b[0;31m# This would cause an error\u001b[0m\u001b[0;34m\u001b[0m\u001b[0;34m\u001b[0m\u001b[0m\n\u001b[0m",
            "\u001b[0;31mTypeError\u001b[0m: 'str' object does not support item assignment"
          ]
        }
      ]
    },
    {
      "cell_type": "markdown",
      "source": [
        "Q3 What are the main differences between lists and tuples in Python?\n",
        "\n",
        "  Lists and tuples are both used to store collections of items in Python, but they have key differences:\n",
        "\n",
        "Mutability:\n",
        "Lists: Are mutable, meaning you can change, add, or remove elements after creation. They are defined using square brackets [].\n",
        "Tuples: Are immutable, meaning their elements cannot be changed after creation. They are defined using parentheses ().\n",
        "Performance:\n",
        "\n",
        "Tuples are generally slightly faster than lists for iteration and access because of their fixed size.\n",
        "Use Cases:\n",
        "\n",
        "Use lists when you need a collection that might change.\n",
        "Use tuples when you need a fixed collection, such as coordinates or configuration settings, where immutability provides data integrity.\n",
        "Syntax:\n",
        "\n",
        "Lists: my_list = [1, 2, 3]\n",
        "Tuples: my_tuple = (1, 2, 3)"
      ],
      "metadata": {
        "id": "DHBwFzqPyZ7x"
      }
    },
    {
      "cell_type": "markdown",
      "source": [
        "Q4 Describe how dictionaries store data?\n",
        "\n",
        "   Dictionaries in Python store data as key-value pairs. Each key is unique and maps to a corresponding value. They are unordered collections, and their elements are accessed using keys rather than numerical indices. Here is a more detailed explanation:\n",
        "Example:"
      ],
      "metadata": {
        "id": "_d0YRqEFzTCR"
      }
    },
    {
      "cell_type": "code",
      "metadata": {
        "colab": {
          "base_uri": "https://localhost:8080/"
        },
        "id": "5265ed19",
        "outputId": "b847dc51-2ff2-41b7-ed82-939b94cd7390"
      },
      "source": [
        "my_dict = {\"name\": \"Sunil Soni\", \"age\": 33, \"city\": \"Dehradun\"}\n",
        "\n",
        "# Accessing values using keys\n",
        "print(my_dict[\"name\"])  # Output: Alice\n",
        "print(my_dict[\"age\"])   # Output: 30\n",
        "\n",
        "# Adding a new key-value pair\n",
        "my_dict[\"occupation\"] = \"Engineer\"\n",
        "print(my_dict) # Output: {'name': 'Alice', 'age': 30, 'city': 'New York', 'occupation': 'Engineer'}\n",
        "\n",
        "# Modifying a value\n",
        "my_dict[\"age\"] = 31\n",
        "print(my_dict) # Output: {'name': 'Alice', 'age': 31, 'city': 'New York', 'occupation': 'Engineer'}"
      ],
      "execution_count": 6,
      "outputs": [
        {
          "output_type": "stream",
          "name": "stdout",
          "text": [
            "Sunil Soni\n",
            "33\n",
            "{'name': 'Sunil Soni', 'age': 33, 'city': 'Dehradun', 'occupation': 'Engineer'}\n",
            "{'name': 'Sunil Soni', 'age': 31, 'city': 'Dehradun', 'occupation': 'Engineer'}\n"
          ]
        }
      ]
    },
    {
      "cell_type": "markdown",
      "source": [
        "Q5 Why might you use a set instead of a list in Python?\n",
        "\n"
      ],
      "metadata": {
        "id": "T59eGiu63b5b"
      }
    },
    {
      "cell_type": "markdown",
      "metadata": {
        "id": "5c3cfbd4"
      },
      "source": [
        "Q5 Why might you use a set instead of a list in Python?\n",
        "\n",
        "   You might choose to use a set instead of a list in Python for several reasons, primarily related to performance and functionality. Sets are particularly useful when:\n",
        "\n",
        "*   **You need to store a collection of unique elements:** Sets automatically enforce uniqueness, meaning duplicate elements are not allowed. If you add a duplicate element to a set, it will simply be ignored. This is very efficient for removing duplicates from a collection.\n",
        "*   **You need to perform membership testing quickly:** Checking if an element is present in a set is generally much faster than checking if it's in a list, especially for large collections. Sets use a hash table internally, which allows for average-case O(1) time complexity for membership testing.\n",
        "*   **You need to perform set operations:** Sets provide built-in methods for common set operations like union, intersection, difference, and symmetric difference. These operations are optimized for sets and can be very efficient.\n",
        "*   **The order of elements does not matter:** Sets are unordered collections. If the order of elements is important, you should use a list or a tuple.\n",
        "*   **You want to eliminate duplicates from an existing list:** You can easily convert a list to a set to remove duplicate elements, and then convert it back to a list if needed.\n",
        "\n"
      ]
    },
    {
      "cell_type": "markdown",
      "metadata": {
        "id": "8a128cdc"
      },
      "source": [
        "Q6 What is a string in Python, and how is it different from a list?\n",
        "\n",
        "\n",
        "   A string in Python is a sequence of characters, used to represent text. Strings are immutable, meaning once created, their contents cannot be changed. Lists, on the other hand, are ordered collections of items that can be of different data types, and they are mutable, allowing you to change, add, or remove elements after creation.\n",
        "\n",
        "Here's a breakdown of the key differences:\n",
        "\n",
        "*   **Mutability:** Strings are immutable, lists are mutable.\n",
        "*   **Data Type:** Strings store sequences of characters (text), while lists can store any type of data (numbers, strings, other lists, etc.).\n",
        "*   **Accessing Elements:** Both strings and lists can be accessed by index.\n",
        "*   **Operations:** Many operations are common to both (like slicing), but some are specific to one or the other (e.g., string methods like `upper()` or list methods like `append()`)."
      ]
    },
    {
      "cell_type": "markdown",
      "source": [
        "Q7 How do tuples ensure data integrity in Python?\n",
        "  \n",
        "  \n",
        "  Tuples ensure data integrity in Python primarily because they are immutable. This means that once a tuple is created, you cannot change, add, or remove any of its elements.\n",
        "\n",
        "Here's why immutability helps ensure data integrity:\n",
        "\n",
        "Prevents accidental modification: If you have a collection of data that should not be changed (like coordinates, configuration settings, or database records), using a tuple prevents accidental alterations to that data by other parts of your program.\n",
        "Thread safety: In multi-threaded environments, immutable objects like tuples are inherently thread-safe because multiple threads can access them simultaneously without the risk of one thread modifying the data while another is reading it.\n",
        "Predictable state: Because tuples cannot be changed, their state is always predictable. This makes it easier to reason about your code and reduces the likelihood of unexpected behavior due to data modification.\n",
        "Suitable for dictionary keys: Due to their immutability and hashability (a property of immutable objects), tuples can be used as keys in dictionaries, which requires keys to be immutable. This allows you to use composite keys in your dictionaries."
      ],
      "metadata": {
        "id": "26CnGVs84O_m"
      }
    },
    {
      "cell_type": "markdown",
      "source": [
        "Q8What is a hash table, and how does it relate to dictionaries in Python?\n",
        "\n",
        "\n",
        "A hash table is a data structure that implements an associative array (or dictionary) abstract data type. It maps keys to values. In Python, dictionaries are implemented using hash tables. This allows for very fast lookups, insertions, and deletions of key-value pairs."
      ],
      "metadata": {
        "id": "QhlfJhN-47WC"
      }
    },
    {
      "cell_type": "markdown",
      "source": [
        "Q9 Can lists contain different data types in Python?\n",
        "\n",
        "\n",
        "Yes, lists in Python can contain elements of different data types within the same list."
      ],
      "metadata": {
        "id": "M20TNXkH5vjB"
      }
    },
    {
      "cell_type": "code",
      "source": [
        "[1, 'hello', 3.14, True]"
      ],
      "metadata": {
        "colab": {
          "base_uri": "https://localhost:8080/"
        },
        "id": "VHgd9FzL54mo",
        "outputId": "8c7162d1-dcb5-48c3-f369-aa6c73698043"
      },
      "execution_count": 12,
      "outputs": [
        {
          "output_type": "execute_result",
          "data": {
            "text/plain": [
              "[1, 'hello', 3.14, True]"
            ]
          },
          "metadata": {},
          "execution_count": 12
        }
      ]
    },
    {
      "cell_type": "markdown",
      "source": [
        "Q10 Explain why strings are immutable in Python.\n",
        "\n",
        "\n",
        "Strings are immutable in Python because once a string is created, its contents cannot be changed. Any operation that appears to modify a string, such as concatenation or slicing, actually creates a new string. This immutability has advantages, like making strings safe to use as keys in dictionaries and ensuring their integrity when shared across different parts of a program.\n",
        "\n"
      ],
      "metadata": {
        "id": "yDIIGLfV6Ocg"
      }
    },
    {
      "cell_type": "markdown",
      "source": [
        "Q11 What advantages do dictionaries offer over lists for certain tasks?\n",
        "\n",
        "\n",
        "  Dictionaries offer significant advantages over lists when you need to associate values with keys for quick lookups. Accessing elements in a dictionary by key is generally much faster than searching for an element in a list by its value or index, especially for large datasets. Dictionaries are also useful for representing structured data where each piece of information has a descriptive label (the key)."
      ],
      "metadata": {
        "id": "h3Z5OiAV6OZf"
      }
    },
    {
      "cell_type": "markdown",
      "source": [
        "Q12 Describe a scenario where using a tuple would be preferable over a list.\n",
        "\n",
        "\n",
        " A tuple would be preferable over a list when you have a collection of items that should not be changed, such as coordinates ((x, y)), RGB color values ((r, g, b)), or database records. Using a tuple indicates that the data is fixed and immutable, which can improve code readability and prevent accidental modification. Tuples can also be used as keys in dictionaries, which lists cannot."
      ],
      "metadata": {
        "id": "V517fz4d6eCC"
      }
    },
    {
      "cell_type": "markdown",
      "source": [
        "Q13 How do sets handle duplicate values in Python?\n",
        "\n",
        "  Sets in Python automatically handle duplicate values by only storing one instance of each unique element. When you add elements to a set, any duplicates are simply ignored. This makes sets useful for tasks like removing duplicates from a list or checking for unique elements."
      ],
      "metadata": {
        "id": "6s5ZuyaZ6jcJ"
      }
    },
    {
      "cell_type": "markdown",
      "source": [
        "Q14 How does the \"in\" keyword work differently for lists and dictionaries?\n",
        "\n",
        "For lists, the \"in\" keyword checks if an element exists as a value within the list. For dictionaries, the \"in\" keyword checks if a key exists in the dictionary."
      ],
      "metadata": {
        "id": "rcSlQgcJ7KCs"
      }
    },
    {
      "cell_type": "markdown",
      "source": [
        "Q15 Can you modify the elements of a tuple?\n",
        "\n",
        " Explain why or why not. No, you cannot modify the elements of a tuple after it has been created. Tuples are immutable data structures. This means that once a tuple is defined, you cannot add, remove, or change any of its elements. If you need a mutable sequence, you should use a list instead.\n",
        "\n"
      ],
      "metadata": {
        "id": "avXaBn857QwL"
      }
    },
    {
      "cell_type": "markdown",
      "source": [
        "Q16 What is a nested dictionary, and give an example of its use case?\n",
        "\n",
        " A nested dictionary is a dictionary where the values are themselves dictionaries. This allows you to represent hierarchical or structured data.\n",
        "\n",
        "Example Use Case: Representing information about multiple users, where each user has attributes like name, age, and address."
      ],
      "metadata": {
        "id": "syKK9XYW7Y5B"
      }
    },
    {
      "cell_type": "code",
      "source": [
        "users = {\n",
        "    'user1': {'name': 'Alice', 'age': 30, 'city': 'New York'},\n",
        "    'user2': {'name': 'Bob', 'age': 25, 'city': 'London'}\n",
        "}\n",
        "\n",
        "print(users['user1']['name']) # Output: Alice"
      ],
      "metadata": {
        "colab": {
          "base_uri": "https://localhost:8080/"
        },
        "id": "OwHHI1w-7fdq",
        "outputId": "bf0b807d-4ff3-42a7-de14-0a925008e482"
      },
      "execution_count": 13,
      "outputs": [
        {
          "output_type": "stream",
          "name": "stdout",
          "text": [
            "Alice\n"
          ]
        }
      ]
    },
    {
      "cell_type": "markdown",
      "source": [
        "Q17 Describe the time complexity of accessing elements in a dictionary.\n",
        "\n",
        "\n",
        "The average time complexity of accessing elements in a dictionary (using a key) is O(1), which means it takes constant time, regardless of the size of the dictionary. In the worst-case scenario (due to hash collisions), it can degrade to O(n), where n is the number of elements, but this is rare with good hash functions."
      ],
      "metadata": {
        "id": "A3QufEol7py0"
      }
    },
    {
      "cell_type": "markdown",
      "source": [
        "Q18 In what situations are lists preferred over dictionaries?\n",
        "\n",
        "Lists are preferred over dictionaries when:\n",
        "You need an ordered sequence of elements.\n",
        "You want to access elements by their position (index).\n",
        "You need to store multiple items with the same value.\n",
        "The order of elements is important."
      ],
      "metadata": {
        "id": "Dh64ZrL071eh"
      }
    },
    {
      "cell_type": "markdown",
      "source": [
        "Q19 Why are dictionaries considered unordered, and how does that affect data retrieval?\n",
        "\n",
        " Prior to Python 3.7, dictionaries were inherently unordered, meaning the order in which items were inserted did not guarantee the order in which they would be retrieved. Since Python 3.7, dictionaries maintain insertion order. However, they are still not ordered by key or value in any specific way by default. This means you cannot rely on retrieving elements in alphabetical order of keys, for example, unless you explicitly sort the keys. It primarily affects how you iterate through a dictionary's items, keys, or values if you expect a specific order other than insertion order."
      ],
      "metadata": {
        "id": "X3WvjceS76hj"
      }
    },
    {
      "cell_type": "markdown",
      "source": [
        "Q20 Explain the difference between a list and a dictionary in terms of data retrieval?\n",
        "\n",
        " The main difference in data retrieval is how you access elements:\n",
        "Lists: You retrieve elements using their integer index (position) in the list. For example, my_list[0] retrieves the first element.\n",
        "Dictionaries: You retrieve elements using their associated key. For example, my_dictionary['key_name'] retrieves the value associated with 'key_name'."
      ],
      "metadata": {
        "id": "MaPQxuIc8B6p"
      }
    },
    {
      "cell_type": "markdown",
      "source": [
        "**Practical Questions**"
      ],
      "metadata": {
        "id": "f52a33_Z9L-M"
      }
    },
    {
      "cell_type": "code",
      "metadata": {
        "colab": {
          "base_uri": "https://localhost:8080/"
        },
        "id": "5f6f2515",
        "outputId": "a07f27a9-d00d-447d-b965-05a7f7ec5d2f"
      },
      "source": [
        "#Q1 Write a code to create a string with your name and print it\n",
        "my_name = \"Sunil Soni\"\n",
        "print(my_name)"
      ],
      "execution_count": 14,
      "outputs": [
        {
          "output_type": "stream",
          "name": "stdout",
          "text": [
            "Sunil Soni\n"
          ]
        }
      ]
    },
    {
      "cell_type": "code",
      "metadata": {
        "colab": {
          "base_uri": "https://localhost:8080/"
        },
        "id": "8c17d249",
        "outputId": "9799359f-4ff5-4ab2-fa56-a88fd4b56e23"
      },
      "source": [
        "#Q2 Write a code to find the length of the string \"Hello World\"\n",
        "my_string = \"Hello World\"\n",
        "string_length = len(my_string)\n",
        "print(string_length)"
      ],
      "execution_count": 15,
      "outputs": [
        {
          "output_type": "stream",
          "name": "stdout",
          "text": [
            "11\n"
          ]
        }
      ]
    },
    {
      "cell_type": "code",
      "metadata": {
        "colab": {
          "base_uri": "https://localhost:8080/"
        },
        "id": "5ad69dd5",
        "outputId": "49d0d9df-4e6f-46c7-9062-9cf41f1a55a8"
      },
      "source": [
        "#Q3 Write a code to slice the first 3 characters from the string \"Python Programming\"\n",
        "my_string = \"Python Programming\"\n",
        "sliced_string = my_string[:3]\n",
        "print(sliced_string)"
      ],
      "execution_count": 16,
      "outputs": [
        {
          "output_type": "stream",
          "name": "stdout",
          "text": [
            "Pyt\n"
          ]
        }
      ]
    },
    {
      "cell_type": "code",
      "metadata": {
        "colab": {
          "base_uri": "https://localhost:8080/"
        },
        "id": "c240aaae",
        "outputId": "02ea056f-553c-45dc-d952-745d41668e29"
      },
      "source": [
        "#Q4 Write a code to convert the string \"hello\" to uppercase\n",
        "my_string = \"hello\"\n",
        "uppercase_string = my_string.upper()\n",
        "print(uppercase_string)"
      ],
      "execution_count": 17,
      "outputs": [
        {
          "output_type": "stream",
          "name": "stdout",
          "text": [
            "HELLO\n"
          ]
        }
      ]
    },
    {
      "cell_type": "code",
      "metadata": {
        "colab": {
          "base_uri": "https://localhost:8080/"
        },
        "id": "88caea19",
        "outputId": "7af012af-e343-4936-e164-1236ccb7081e"
      },
      "source": [
        "#5 Write a code to replace the word \"apple\" with \"orange\" in the string \"I like apple\"\n",
        "my_string = \"I like apple\"\n",
        "new_string = my_string.replace(\"apple\", \"orange\")\n",
        "print(new_string)"
      ],
      "execution_count": 18,
      "outputs": [
        {
          "output_type": "stream",
          "name": "stdout",
          "text": [
            "I like orange\n"
          ]
        }
      ]
    },
    {
      "cell_type": "code",
      "metadata": {
        "colab": {
          "base_uri": "https://localhost:8080/"
        },
        "id": "9ca929de",
        "outputId": "f22851ca-6dfa-4d5b-80b2-a23ce31e936e"
      },
      "source": [
        "#6 Write a code to create a list with numbers 1 to 5 and print it\n",
        "my_list = [1, 2, 3, 4, 5]\n",
        "print(my_list)"
      ],
      "execution_count": 19,
      "outputs": [
        {
          "output_type": "stream",
          "name": "stdout",
          "text": [
            "[1, 2, 3, 4, 5]\n"
          ]
        }
      ]
    },
    {
      "cell_type": "code",
      "metadata": {
        "colab": {
          "base_uri": "https://localhost:8080/"
        },
        "id": "22c4d25e",
        "outputId": "ab43fc1b-e25e-4aa8-8c1f-d66b38344614"
      },
      "source": [
        "#Q7 Write a code to append the number 10 to the list [1, 2, 3, 4]\n",
        "my_list = [1, 2, 3, 4]\n",
        "my_list.append(10)\n",
        "print(my_list)"
      ],
      "execution_count": 20,
      "outputs": [
        {
          "output_type": "stream",
          "name": "stdout",
          "text": [
            "[1, 2, 3, 4, 10]\n"
          ]
        }
      ]
    },
    {
      "cell_type": "code",
      "metadata": {
        "colab": {
          "base_uri": "https://localhost:8080/"
        },
        "id": "b5b0070d",
        "outputId": "e04c87c3-8db6-40ce-98f8-4e12ecd660f0"
      },
      "source": [
        "#Q8 Write a code to remove the number 3 from the list [1, 2, 3, 4, 5]\n",
        "my_list = [1, 2, 3, 4, 5]\n",
        "my_list.remove(3)\n",
        "print(my_list)"
      ],
      "execution_count": 21,
      "outputs": [
        {
          "output_type": "stream",
          "name": "stdout",
          "text": [
            "[1, 2, 4, 5]\n"
          ]
        }
      ]
    },
    {
      "cell_type": "code",
      "metadata": {
        "colab": {
          "base_uri": "https://localhost:8080/"
        },
        "id": "50090acb",
        "outputId": "71b90e01-979d-4337-aff8-f0a00cb9e64a"
      },
      "source": [
        "#Q9 Write a code to access the second element in the list ['a', 'b', 'c', 'd']\n",
        "my_list = ['a', 'b', 'c', 'd']\n",
        "second_element = my_list[1]\n",
        "print(second_element)"
      ],
      "execution_count": 22,
      "outputs": [
        {
          "output_type": "stream",
          "name": "stdout",
          "text": [
            "b\n"
          ]
        }
      ]
    },
    {
      "cell_type": "code",
      "metadata": {
        "colab": {
          "base_uri": "https://localhost:8080/"
        },
        "id": "867ba644",
        "outputId": "d014fa92-513d-4d40-ea74-39f2bfbf9508"
      },
      "source": [
        "#Q10 Write a code to reverse the list [10, 20, 30, 40, 50]\n",
        "my_list = [10, 20, 30, 40, 50]\n",
        "my_list.reverse()\n",
        "print(my_list)"
      ],
      "execution_count": 23,
      "outputs": [
        {
          "output_type": "stream",
          "name": "stdout",
          "text": [
            "[50, 40, 30, 20, 10]\n"
          ]
        }
      ]
    },
    {
      "cell_type": "code",
      "metadata": {
        "colab": {
          "base_uri": "https://localhost:8080/"
        },
        "id": "a2683d54",
        "outputId": "2585b6df-0a10-4171-ddf1-d8791c447bc2"
      },
      "source": [
        "#Q11 Write a code to create a tuple with the elements 100, 200, 300 and print it.\n",
        "my_tuple = (100, 200, 300)\n",
        "print(my_tuple)"
      ],
      "execution_count": 24,
      "outputs": [
        {
          "output_type": "stream",
          "name": "stdout",
          "text": [
            "(100, 200, 300)\n"
          ]
        }
      ]
    },
    {
      "cell_type": "code",
      "metadata": {
        "colab": {
          "base_uri": "https://localhost:8080/"
        },
        "id": "83242b7b",
        "outputId": "d79cb11d-44fc-4120-84b4-a038232fb806"
      },
      "source": [
        "#Q12 Write a code to access the second-to-last element of the tuple ('red', 'green', 'blue', 'yellow').\n",
        "my_tuple = ('red', 'green', 'blue', 'yellow')\n",
        "second_to_last = my_tuple[-2]\n",
        "print(second_to_last)"
      ],
      "execution_count": 25,
      "outputs": [
        {
          "output_type": "stream",
          "name": "stdout",
          "text": [
            "blue\n"
          ]
        }
      ]
    },
    {
      "cell_type": "code",
      "metadata": {
        "colab": {
          "base_uri": "https://localhost:8080/"
        },
        "id": "23273aa4",
        "outputId": "b4730629-7ae8-4a0c-9e5d-9e432e4188ff"
      },
      "source": [
        "#Q13 Write a code to find the minimum number in the tuple (10, 20, 5, 15).\n",
        "my_tuple = (10, 20, 5, 15)\n",
        "min_number = min(my_tuple)\n",
        "print(min_number)"
      ],
      "execution_count": 26,
      "outputs": [
        {
          "output_type": "stream",
          "name": "stdout",
          "text": [
            "5\n"
          ]
        }
      ]
    },
    {
      "cell_type": "code",
      "metadata": {
        "colab": {
          "base_uri": "https://localhost:8080/"
        },
        "id": "60a24664",
        "outputId": "dd7a16a1-4910-489a-99b2-218ade2997bd"
      },
      "source": [
        "#Q14 Write a code to find the index of the element \"cat\" in the tuple ('dog', 'cat', 'rabbit').\n",
        "my_tuple = ('dog', 'cat', 'rabbit')\n",
        "index_of_cat = my_tuple.index(\"cat\")\n",
        "print(index_of_cat)"
      ],
      "execution_count": 36,
      "outputs": [
        {
          "output_type": "stream",
          "name": "stdout",
          "text": [
            "1\n"
          ]
        }
      ]
    },
    {
      "cell_type": "code",
      "metadata": {
        "colab": {
          "base_uri": "https://localhost:8080/"
        },
        "id": "d3eaad66",
        "outputId": "49141b3a-d9f3-4e82-dcb1-7145f1f055a4"
      },
      "source": [
        "#Q15 Write a code to create a tuple containing three different fruits and check if \"kiwi\" is in it.\n",
        "my_tuple = ('apple', 'banana', 'orange')\n",
        "is_kiwi_in_tuple = \"kiwi\" in my_tuple\n",
        "print(is_kiwi_in_tuple)"
      ],
      "execution_count": 28,
      "outputs": [
        {
          "output_type": "stream",
          "name": "stdout",
          "text": [
            "False\n"
          ]
        }
      ]
    },
    {
      "cell_type": "code",
      "metadata": {
        "colab": {
          "base_uri": "https://localhost:8080/"
        },
        "id": "80c96bfc",
        "outputId": "a3b67c3f-afd4-4c01-9416-d684c8f817b1"
      },
      "source": [
        "#Q16 Write a code to create a set with the elements 'a', 'b', 'c' and print it.\n",
        "my_set = {'a', 'b', 'c'}\n",
        "print(my_set)"
      ],
      "execution_count": 29,
      "outputs": [
        {
          "output_type": "stream",
          "name": "stdout",
          "text": [
            "{'b', 'c', 'a'}\n"
          ]
        }
      ]
    },
    {
      "cell_type": "code",
      "metadata": {
        "colab": {
          "base_uri": "https://localhost:8080/"
        },
        "id": "9d5be6ac",
        "outputId": "a2ecc0db-71fd-469e-aa02-3d72598de2a8"
      },
      "source": [
        "#Q17 Write a code to clear all elements from the set {1, 2, 3, 4, 5}.\n",
        "my_set = {1, 2, 3, 4, 5}\n",
        "my_set.clear()\n",
        "print(my_set)"
      ],
      "execution_count": 30,
      "outputs": [
        {
          "output_type": "stream",
          "name": "stdout",
          "text": [
            "set()\n"
          ]
        }
      ]
    },
    {
      "cell_type": "code",
      "metadata": {
        "colab": {
          "base_uri": "https://localhost:8080/"
        },
        "id": "1d1dfe41",
        "outputId": "f0efb4d1-40b4-4c2f-c103-542e892554f6"
      },
      "source": [
        "#Q18 Write a code to remove the element 4 from the set {1, 2, 3, 4}.\n",
        "my_set = {1, 2, 3, 4}\n",
        "my_set.remove(4)\n",
        "print(my_set)"
      ],
      "execution_count": 31,
      "outputs": [
        {
          "output_type": "stream",
          "name": "stdout",
          "text": [
            "{1, 2, 3}\n"
          ]
        }
      ]
    },
    {
      "cell_type": "code",
      "metadata": {
        "colab": {
          "base_uri": "https://localhost:8080/"
        },
        "id": "34c41ea8",
        "outputId": "c94e11ab-bc7b-4404-cee2-74ca7e9645df"
      },
      "source": [
        "#Q19 Write a code to find the union of two sets {1, 2, 3} and {3, 4, 5}.\n",
        "set1 = {1, 2, 3}\n",
        "set2 = {3, 4, 5}\n",
        "union_set = set1.union(set2)\n",
        "print(union_set)"
      ],
      "execution_count": 32,
      "outputs": [
        {
          "output_type": "stream",
          "name": "stdout",
          "text": [
            "{1, 2, 3, 4, 5}\n"
          ]
        }
      ]
    },
    {
      "cell_type": "code",
      "metadata": {
        "colab": {
          "base_uri": "https://localhost:8080/"
        },
        "id": "1c49cad6",
        "outputId": "30e1a124-d29d-4156-e2c6-eec530179b2e"
      },
      "source": [
        "#Q20 Write a code to find the intersection of two sets {1, 2, 3} and {2, 3, 4}.\n",
        "set1 = {1, 2, 3}\n",
        "set2 = {2, 3, 4}\n",
        "intersection_set = set1.intersection(set2)\n",
        "print(intersection_set)"
      ],
      "execution_count": 33,
      "outputs": [
        {
          "output_type": "stream",
          "name": "stdout",
          "text": [
            "{2, 3}\n"
          ]
        }
      ]
    },
    {
      "cell_type": "code",
      "metadata": {
        "colab": {
          "base_uri": "https://localhost:8080/"
        },
        "id": "380b380f",
        "outputId": "8ca881b8-a6b1-4f67-f2a1-22460a1da4af"
      },
      "source": [
        "#Q21 Write a code to create a dictionary with the keys \"name\", \"age\", and \"city\", and print it.\n",
        "my_dict = {\"name\": \"Sunil Soni\", \"age\": 33, \"city\": \"Dehradun\"}\n",
        "print(my_dict)"
      ],
      "execution_count": 37,
      "outputs": [
        {
          "output_type": "stream",
          "name": "stdout",
          "text": [
            "{'name': 'Sunil Soni', 'age': 33, 'city': 'Dehradun'}\n"
          ]
        }
      ]
    },
    {
      "cell_type": "code",
      "metadata": {
        "colab": {
          "base_uri": "https://localhost:8080/"
        },
        "id": "eb349168",
        "outputId": "47bfb842-b0be-4be7-c5ed-a491e51b10c7"
      },
      "source": [
        "#Q22 Write a code to add a new key-value pair \"country\": \"USA\" to the dictionary {'name': 'John', 'age': 25}.\n",
        "my_dict = {'name': 'John', 'age': 25}\n",
        "my_dict[\"country\"] = \"USA\"\n",
        "print(my_dict)"
      ],
      "execution_count": 38,
      "outputs": [
        {
          "output_type": "stream",
          "name": "stdout",
          "text": [
            "{'name': 'John', 'age': 25, 'country': 'USA'}\n"
          ]
        }
      ]
    },
    {
      "cell_type": "code",
      "metadata": {
        "colab": {
          "base_uri": "https://localhost:8080/"
        },
        "id": "852d54cc",
        "outputId": "98f1a8ab-84c2-4796-ccf3-3f8758aa1752"
      },
      "source": [
        "#Q23 Write a code to access the value associated with the key \"name\" in the dictionary {'name': 'Alice', 'age': 30}.\n",
        "my_dict = {'name': 'Alice', 'age': 30}\n",
        "name_value = my_dict[\"name\"]\n",
        "print(name_value)"
      ],
      "execution_count": 39,
      "outputs": [
        {
          "output_type": "stream",
          "name": "stdout",
          "text": [
            "Alice\n"
          ]
        }
      ]
    },
    {
      "cell_type": "code",
      "metadata": {
        "colab": {
          "base_uri": "https://localhost:8080/"
        },
        "id": "90f60f12",
        "outputId": "0fb79115-7690-4c74-c490-408254bf6a1e"
      },
      "source": [
        "#Q24 Write a code to remove the key \"age\" from the dictionary {'name': 'Bob', 'age': 22, 'city': 'New York'}.\n",
        "my_dict = {'name': 'Bob', 'age': 22, 'city': 'New York'}\n",
        "del my_dict[\"age\"]\n",
        "print(my_dict)"
      ],
      "execution_count": 40,
      "outputs": [
        {
          "output_type": "stream",
          "name": "stdout",
          "text": [
            "{'name': 'Bob', 'city': 'New York'}\n"
          ]
        }
      ]
    },
    {
      "cell_type": "code",
      "metadata": {
        "colab": {
          "base_uri": "https://localhost:8080/"
        },
        "id": "d081919e",
        "outputId": "2088cc2e-8a91-45d3-fc7e-c7d28e0403a9"
      },
      "source": [
        "#Q25 Write a code to check if the key \"city\" exists in the dictionary {'name': 'Alice', 'city': 'Paris'}.\n",
        "my_dict = {'name': 'Alice', 'city': 'Paris'}\n",
        "has_city = \"city\" in my_dict\n",
        "print(has_city)"
      ],
      "execution_count": 41,
      "outputs": [
        {
          "output_type": "stream",
          "name": "stdout",
          "text": [
            "True\n"
          ]
        }
      ]
    },
    {
      "cell_type": "code",
      "metadata": {
        "colab": {
          "base_uri": "https://localhost:8080/"
        },
        "id": "d563304b",
        "outputId": "fa889bb9-8818-4b2c-bdac-c8a594333303"
      },
      "source": [
        "#Q26 Write a code to create a list, a tuple, and a dictionary, and print them all.\n",
        "my_list = [1, 2, 3]\n",
        "my_tuple = (4, 5, 6)\n",
        "my_dict = {\"a\": 7, \"b\": 8}\n",
        "print(my_list)\n",
        "print(my_tuple)\n",
        "print(my_dict)"
      ],
      "execution_count": 42,
      "outputs": [
        {
          "output_type": "stream",
          "name": "stdout",
          "text": [
            "[1, 2, 3]\n",
            "(4, 5, 6)\n",
            "{'a': 7, 'b': 8}\n"
          ]
        }
      ]
    },
    {
      "cell_type": "code",
      "metadata": {
        "colab": {
          "base_uri": "https://localhost:8080/"
        },
        "id": "a0702429",
        "outputId": "461cbd7f-bc30-46e4-df01-23d1229382fd"
      },
      "source": [
        "#Q27 Write a code to create a list of 5 random numbers between 1 and 100, sort it in ascending order, and print the result.\n",
        "import random\n",
        "random_list = [random.randint(1, 100) for _ in range(5)]\n",
        "random_list.sort()\n",
        "print(random_list)"
      ],
      "execution_count": 43,
      "outputs": [
        {
          "output_type": "stream",
          "name": "stdout",
          "text": [
            "[7, 25, 60, 74, 99]\n"
          ]
        }
      ]
    },
    {
      "cell_type": "code",
      "metadata": {
        "colab": {
          "base_uri": "https://localhost:8080/"
        },
        "id": "81b283b5",
        "outputId": "c9e32989-f1d1-4cc5-b7ed-38d6c5fcf1b2"
      },
      "source": [
        "#Q28 Write a code to create a list with strings and print the element at the third index.\n",
        "my_list = [\"apple\", \"banana\", \"cherry\", \"date\"]\n",
        "third_element = my_list[2]\n",
        "print(third_element)"
      ],
      "execution_count": 44,
      "outputs": [
        {
          "output_type": "stream",
          "name": "stdout",
          "text": [
            "cherry\n"
          ]
        }
      ]
    },
    {
      "cell_type": "code",
      "metadata": {
        "colab": {
          "base_uri": "https://localhost:8080/"
        },
        "id": "e6992a1a",
        "outputId": "68f98c20-2acc-49a1-d915-6f2c1e5ab1f8"
      },
      "source": [
        "#Q29 Write a code to combine two dictionaries into one and print the result.\n",
        "dict1 = {\"a\": 1, \"b\": 2}\n",
        "dict2 = {\"c\": 3, \"d\": 4}\n",
        "combined_dict = {**dict1, **dict2}\n",
        "print(combined_dict)"
      ],
      "execution_count": 45,
      "outputs": [
        {
          "output_type": "stream",
          "name": "stdout",
          "text": [
            "{'a': 1, 'b': 2, 'c': 3, 'd': 4}\n"
          ]
        }
      ]
    },
    {
      "cell_type": "code",
      "metadata": {
        "colab": {
          "base_uri": "https://localhost:8080/"
        },
        "id": "c24b1e7e",
        "outputId": "1b0eceb6-5172-48f9-fde3-7d52e7a74e7b"
      },
      "source": [
        "#Q30 Write a code to convert a list of strings into a set.\n",
        "my_list = [\"apple\", \"banana\", \"cherry\", \"apple\"]\n",
        "my_set = set(my_list)\n",
        "print(my_set)"
      ],
      "execution_count": 46,
      "outputs": [
        {
          "output_type": "stream",
          "name": "stdout",
          "text": [
            "{'apple', 'cherry', 'banana'}\n"
          ]
        }
      ]
    }
  ]
}